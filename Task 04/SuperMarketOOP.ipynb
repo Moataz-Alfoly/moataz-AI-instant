{
 "cells": [
  {
   "cell_type": "code",
   "execution_count": 38,
   "id": "625f62f1",
   "metadata": {},
   "outputs": [],
   "source": [
    "class User:\n",
    "    no_user = 0\n",
    "    def __init__(self):\n",
    "        self.__ID = int(input(\"enter the ID: \"))\n",
    "        self.__email = input(\"enter your email: \")\n",
    "        self.__password = input(\"enter your password: \")\n",
    "        self._name = input(\"enter your name: \")\n",
    "        self._address = input(\"enter your address: \")\n",
    "        self.DOB = input(\"enter your Date Of Birth: \")\n",
    "        User.no_user += 1\n",
    "        \n",
    "    def editUser(self):\n",
    "        p =  input(\"enter your password: \")\n",
    "        if(search(p)):\n",
    "            print(\"1-To edit Email\")\n",
    "            print(\"2-To edit password\")\n",
    "            print(\"3-To edit name\")\n",
    "            print(\"4-To edit address\")\n",
    "            choice = input(\"enter your choice: \")\n",
    "            if choice == 1:\n",
    "                self.__email = input(\"enter your new email: \")\n",
    "            elif choice == 2:\n",
    "                self.__password = input(\"enter your new password: \")\n",
    "            elif choice == 3:\n",
    "                self._name = input(\"enter your new name: \")\n",
    "            elif choice == 4:\n",
    "                self._address = input(\"enter your new address: \")\n",
    "        \n",
    "    def deletUser(self):\n",
    "        userid = input(\"enter the ID of the user: \")\n",
    "        if userid == self.__ID:\n",
    "            del self.userid\n",
    "            no_user -= 1\n",
    "        \n",
    "    def search(self, userpass):\n",
    "        if userpass == self.__password:\n",
    "            return True\n",
    "        else:\n",
    "            return False"
   ]
  },
  {
   "cell_type": "code",
   "execution_count": 42,
   "id": "79561fe4",
   "metadata": {},
   "outputs": [],
   "source": [
    "class Customer(User):\n",
    "    \n",
    "    def addOrder(self, itemNumber):\n",
    "        self.OrderID = input(\"order ID: \")\n",
    "        self.items = []\n",
    "        self.price = 0.0\n",
    "        self.q = 0\n",
    "        self.OrderDetails = 'none'\n",
    "        for i in range(itemNumber):\n",
    "            self.OrderDetails = input(\"enter the item: \")\n",
    "            self.items.append(OrderDetails)\n",
    "            self.price += 10\n",
    "            self.q = int(input(\"enter the quantity: \"))\n",
    "            \n",
    "    def addItem(self):\n",
    "        it = input(\"enter the item: \")\n",
    "        self.items.append(it)\n",
    "        \n",
    "    def recipt(self):\n",
    "        print(f\"items: {self.items}, price: {self.price}\")"
   ]
  },
  {
   "cell_type": "code",
   "execution_count": 5,
   "id": "e9c77347",
   "metadata": {},
   "outputs": [],
   "source": [
    "class Item:\n",
    "    def __init__(self):\n",
    "        self.itemID = int(input(\"enter the ID of the item: \"))\n",
    "        self.itemName = input(\"enter the name of the item: \")\n",
    "        self.expireDate = input(\"enter the expire date: \")\n",
    "        self.description = input(\"enter the description: \")\n",
    "        self.quantity = int(input(\"enter the ID of the item: \"))\n",
    "    def editQuantity(self):\n",
    "        newQuantity = int(input(\"enter the quantity of the item: \"))\n",
    "        if newQuantity <= self.quantity:\n",
    "            self.quantity -= newQuantity\n",
    "        else:\n",
    "            print(\"quantity greater than the available quantity\")"
   ]
  },
  {
   "cell_type": "code",
   "execution_count": 6,
   "id": "c8e2926d",
   "metadata": {},
   "outputs": [],
   "source": [
    "class Employee(User):\n",
    "    role = None\n",
    "    department = None\n",
    "    def addRole(self):\n",
    "        r = input(\"enter the role of  the employee: \")\n",
    "        self.role = r\n",
    "    def dept(self):\n",
    "        d = input(\"enter the department of the employee: \")\n",
    "        self.department = d\n",
    "    def __generateReport(self):\n",
    "        Customer_Details = input(\"enter the feedback of the customer: \")\n",
    "        Employee_Details = input(\"enter the feedback of the Employee: \")\n",
    "        print(\"Customer feedback details: \" + Customer_Details)\n",
    "        print(\"Employee feedback details: \" + Employee_Details)"
   ]
  },
  {
   "cell_type": "code",
   "execution_count": 19,
   "id": "5b436e5d",
   "metadata": {},
   "outputs": [
    {
     "name": "stdout",
     "output_type": "stream",
     "text": [
      "enter the ID: 1\n",
      "enter your email: 321\n",
      "enter your password: 54\n",
      "enter your name: ah\n",
      "enter your address: 2\n",
      "enter your Date Of Birth: 1\n",
      "order ID: 2\n",
      "enter the item: q\n"
     ]
    },
    {
     "ename": "NameError",
     "evalue": "name 'OrderDetails' is not defined",
     "output_type": "error",
     "traceback": [
      "\u001b[1;31m---------------------------------------------------------------------------\u001b[0m",
      "\u001b[1;31mNameError\u001b[0m                                 Traceback (most recent call last)",
      "\u001b[1;32m~\\AppData\\Local\\Temp\\ipykernel_8600\\4020815369.py\u001b[0m in \u001b[0;36m<module>\u001b[1;34m\u001b[0m\n\u001b[0;32m      1\u001b[0m \u001b[0mc1\u001b[0m \u001b[1;33m=\u001b[0m \u001b[0mCustomer\u001b[0m\u001b[1;33m(\u001b[0m\u001b[1;33m)\u001b[0m\u001b[1;33m\u001b[0m\u001b[1;33m\u001b[0m\u001b[0m\n\u001b[1;32m----> 2\u001b[1;33m \u001b[0mc1\u001b[0m\u001b[1;33m.\u001b[0m\u001b[0maddOrder\u001b[0m\u001b[1;33m(\u001b[0m\u001b[1;36m5\u001b[0m\u001b[1;33m)\u001b[0m\u001b[1;33m\u001b[0m\u001b[1;33m\u001b[0m\u001b[0m\n\u001b[0m\u001b[0;32m      3\u001b[0m \u001b[0mc1\u001b[0m\u001b[1;33m.\u001b[0m\u001b[0mrecipt\u001b[0m\u001b[1;33m(\u001b[0m\u001b[1;33m)\u001b[0m\u001b[1;33m\u001b[0m\u001b[1;33m\u001b[0m\u001b[0m\n",
      "\u001b[1;32m~\\AppData\\Local\\Temp\\ipykernel_8600\\2496061079.py\u001b[0m in \u001b[0;36maddOrder\u001b[1;34m(self, itemNumber)\u001b[0m\n\u001b[0;32m      6\u001b[0m         \u001b[1;32mfor\u001b[0m \u001b[0mi\u001b[0m \u001b[1;32min\u001b[0m \u001b[0mrange\u001b[0m\u001b[1;33m(\u001b[0m\u001b[0mitemNumber\u001b[0m\u001b[1;33m)\u001b[0m\u001b[1;33m:\u001b[0m\u001b[1;33m\u001b[0m\u001b[1;33m\u001b[0m\u001b[0m\n\u001b[0;32m      7\u001b[0m             \u001b[0mself\u001b[0m\u001b[1;33m.\u001b[0m\u001b[0mOrderDetails\u001b[0m \u001b[1;33m=\u001b[0m \u001b[0minput\u001b[0m\u001b[1;33m(\u001b[0m\u001b[1;34m\"enter the item: \"\u001b[0m\u001b[1;33m)\u001b[0m\u001b[1;33m\u001b[0m\u001b[1;33m\u001b[0m\u001b[0m\n\u001b[1;32m----> 8\u001b[1;33m             \u001b[0mself\u001b[0m\u001b[1;33m.\u001b[0m\u001b[0mitems\u001b[0m\u001b[1;33m.\u001b[0m\u001b[0mappend\u001b[0m\u001b[1;33m(\u001b[0m\u001b[0mOrderDetails\u001b[0m\u001b[1;33m)\u001b[0m\u001b[1;33m\u001b[0m\u001b[1;33m\u001b[0m\u001b[0m\n\u001b[0m\u001b[0;32m      9\u001b[0m             \u001b[0mself\u001b[0m\u001b[1;33m.\u001b[0m\u001b[0mprice\u001b[0m \u001b[1;33m+=\u001b[0m \u001b[1;36m10\u001b[0m\u001b[1;33m\u001b[0m\u001b[1;33m\u001b[0m\u001b[0m\n\u001b[0;32m     10\u001b[0m             \u001b[0mq\u001b[0m \u001b[1;33m=\u001b[0m \u001b[0mint\u001b[0m\u001b[1;33m(\u001b[0m\u001b[0minput\u001b[0m\u001b[1;33m(\u001b[0m\u001b[1;34m\"enter the quantity: \"\u001b[0m\u001b[1;33m)\u001b[0m\u001b[1;33m)\u001b[0m\u001b[1;33m\u001b[0m\u001b[1;33m\u001b[0m\u001b[0m\n",
      "\u001b[1;31mNameError\u001b[0m: name 'OrderDetails' is not defined"
     ]
    }
   ],
   "source": [
    "c1 = Customer()"
   ]
  }
 ],
 "metadata": {
  "kernelspec": {
   "display_name": "Python 3 (ipykernel)",
   "language": "python",
   "name": "python3"
  },
  "language_info": {
   "codemirror_mode": {
    "name": "ipython",
    "version": 3
   },
   "file_extension": ".py",
   "mimetype": "text/x-python",
   "name": "python",
   "nbconvert_exporter": "python",
   "pygments_lexer": "ipython3",
   "version": "3.9.13"
  },
  "varInspector": {
   "cols": {
    "lenName": 16,
    "lenType": 16,
    "lenVar": 40
   },
   "kernels_config": {
    "python": {
     "delete_cmd_postfix": "",
     "delete_cmd_prefix": "del ",
     "library": "var_list.py",
     "varRefreshCmd": "print(var_dic_list())"
    },
    "r": {
     "delete_cmd_postfix": ") ",
     "delete_cmd_prefix": "rm(",
     "library": "var_list.r",
     "varRefreshCmd": "cat(var_dic_list()) "
    }
   },
   "types_to_exclude": [
    "module",
    "function",
    "builtin_function_or_method",
    "instance",
    "_Feature"
   ],
   "window_display": false
  }
 },
 "nbformat": 4,
 "nbformat_minor": 5
}
