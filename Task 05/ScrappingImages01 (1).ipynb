{
 "cells": [
  {
   "cell_type": "code",
   "execution_count": 1,
   "id": "4edc1ff5",
   "metadata": {},
   "outputs": [],
   "source": [
    "import requests\n",
    "from bs4 import BeautifulSoup\n",
    "import csv"
   ]
  },
  {
   "cell_type": "code",
   "execution_count": 3,
   "id": "32a90d80",
   "metadata": {},
   "outputs": [],
   "source": [
    "##Scrapping Images"
   ]
  },
  {
   "cell_type": "code",
   "execution_count": 2,
   "id": "7fd888ff",
   "metadata": {},
   "outputs": [],
   "source": [
    "import bs4\n",
    "import urllib.request\n",
    "from urllib.request import urlopen"
   ]
  },
  {
   "cell_type": "code",
   "execution_count": 11,
   "id": "fb69676b",
   "metadata": {},
   "outputs": [],
   "source": [
    "url = 'https://www.newegg.com/?recaptcha=pass'\n",
    "page = urllib.request.urlopen(url)\n",
    "page_soup = BeautifulSoup(page, 'html.parser')\n",
    "img_item = page_soup.find_all('div', {'class' : 'grid gap-20px col-w-4 goods-list is-vertical is-trending'})\n",
    "# img_div = img_item.find_all(class_='goods-container')\n",
    "i=1\n",
    "for img in img_item:\n",
    "    images=img.find('img')\n",
    "    img_src=imges.get('src')\n",
    "    if img_src[:1]:\n",
    "        img_link= 'http:'+img_src\n",
    "    else:\n",
    "        img_link= img_src\n",
    "    file_name = str(i)\n",
    "    i+=1\n",
    "    img_file = open(file_name + 'png' + 'wb')\n",
    "    img_file.write(urllib.request.urlopen(img_link).read())\n",
    "    img_file.close()\n",
    "    \n"
   ]
  }
 ],
 "metadata": {
  "kernelspec": {
   "display_name": "Python 3 (ipykernel)",
   "language": "python",
   "name": "python3"
  },
  "language_info": {
   "codemirror_mode": {
    "name": "ipython",
    "version": 3
   },
   "file_extension": ".py",
   "mimetype": "text/x-python",
   "name": "python",
   "nbconvert_exporter": "python",
   "pygments_lexer": "ipython3",
   "version": "3.9.13"
  },
  "varInspector": {
   "cols": {
    "lenName": 16,
    "lenType": 16,
    "lenVar": 40
   },
   "kernels_config": {
    "python": {
     "delete_cmd_postfix": "",
     "delete_cmd_prefix": "del ",
     "library": "var_list.py",
     "varRefreshCmd": "print(var_dic_list())"
    },
    "r": {
     "delete_cmd_postfix": ") ",
     "delete_cmd_prefix": "rm(",
     "library": "var_list.r",
     "varRefreshCmd": "cat(var_dic_list()) "
    }
   },
   "types_to_exclude": [
    "module",
    "function",
    "builtin_function_or_method",
    "instance",
    "_Feature"
   ],
   "window_display": false
  }
 },
 "nbformat": 4,
 "nbformat_minor": 5
}
